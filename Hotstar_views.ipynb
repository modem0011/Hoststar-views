{
  "nbformat": 4,
  "nbformat_minor": 0,
  "metadata": {
    "colab": {
      "name": "Hotstar views.ipynb",
      "provenance": [],
      "authorship_tag": "ABX9TyNYusPpfPOHCrB1b7eUEv0R",
      "include_colab_link": true
    },
    "kernelspec": {
      "name": "python3",
      "display_name": "Python 3"
    }
  },
  "cells": [
    {
      "cell_type": "markdown",
      "metadata": {
        "id": "view-in-github",
        "colab_type": "text"
      },
      "source": [
        "<a href=\"https://colab.research.google.com/github/modem0011/Hoststar-views/blob/master/Hotstar_views.ipynb\" target=\"_parent\"><img src=\"https://colab.research.google.com/assets/colab-badge.svg\" alt=\"Open In Colab\"/></a>"
      ]
    },
    {
      "cell_type": "markdown",
      "metadata": {
        "id": "CZ0CXNuzo0BJ",
        "colab_type": "text"
      },
      "source": [
        "#**Data Preperation**\n"
      ]
    },
    {
      "cell_type": "code",
      "metadata": {
        "id": "IUvwBRHcmyjn",
        "colab_type": "code",
        "colab": {}
      },
      "source": [
        "import pandas as pd\n",
        "import seaborn as sns\n",
        "import numpy as np\n",
        "import matplotlib.pyplot as plt"
      ],
      "execution_count": null,
      "outputs": []
    },
    {
      "cell_type": "code",
      "metadata": {
        "id": "OTFrHMo2n7sX",
        "colab_type": "code",
        "colab": {}
      },
      "source": [
        "data=pd.read_csv(\"mediacompany.csv\")"
      ],
      "execution_count": null,
      "outputs": []
    },
    {
      "cell_type": "code",
      "metadata": {
        "id": "S1gRD063n9Jv",
        "colab_type": "code",
        "colab": {}
      },
      "source": [
        "data=pd.DataFrame(data)"
      ],
      "execution_count": null,
      "outputs": []
    },
    {
      "cell_type": "code",
      "metadata": {
        "id": "0SjxqPQ_n_5h",
        "colab_type": "code",
        "colab": {
          "base_uri": "https://localhost:8080/",
          "height": 198
        },
        "outputId": "3c5333ae-4ddf-4c9d-e1af-77e7edcf2122"
      },
      "source": [
        "data.head()"
      ],
      "execution_count": null,
      "outputs": [
        {
          "output_type": "execute_result",
          "data": {
            "text/html": [
              "<div>\n",
              "<style scoped>\n",
              "    .dataframe tbody tr th:only-of-type {\n",
              "        vertical-align: middle;\n",
              "    }\n",
              "\n",
              "    .dataframe tbody tr th {\n",
              "        vertical-align: top;\n",
              "    }\n",
              "\n",
              "    .dataframe thead th {\n",
              "        text-align: right;\n",
              "    }\n",
              "</style>\n",
              "<table border=\"1\" class=\"dataframe\">\n",
              "  <thead>\n",
              "    <tr style=\"text-align: right;\">\n",
              "      <th></th>\n",
              "      <th>Date</th>\n",
              "      <th>Views_show</th>\n",
              "      <th>Visitors</th>\n",
              "      <th>Views_platform</th>\n",
              "      <th>Ad_impression</th>\n",
              "      <th>Cricket_match_india</th>\n",
              "      <th>Character_A</th>\n",
              "      <th>Unnamed: 7</th>\n",
              "    </tr>\n",
              "  </thead>\n",
              "  <tbody>\n",
              "    <tr>\n",
              "      <th>0</th>\n",
              "      <td>3/1/2017</td>\n",
              "      <td>183738</td>\n",
              "      <td>1260228</td>\n",
              "      <td>1706478</td>\n",
              "      <td>1060860448</td>\n",
              "      <td>0</td>\n",
              "      <td>0</td>\n",
              "      <td>NaN</td>\n",
              "    </tr>\n",
              "    <tr>\n",
              "      <th>1</th>\n",
              "      <td>3/2/2017</td>\n",
              "      <td>193763</td>\n",
              "      <td>1270561</td>\n",
              "      <td>1690727</td>\n",
              "      <td>1031846645</td>\n",
              "      <td>0</td>\n",
              "      <td>0</td>\n",
              "      <td>NaN</td>\n",
              "    </tr>\n",
              "    <tr>\n",
              "      <th>2</th>\n",
              "      <td>3/3/2017</td>\n",
              "      <td>210479</td>\n",
              "      <td>1248183</td>\n",
              "      <td>1726157</td>\n",
              "      <td>1010867575</td>\n",
              "      <td>0</td>\n",
              "      <td>0</td>\n",
              "      <td>NaN</td>\n",
              "    </tr>\n",
              "    <tr>\n",
              "      <th>3</th>\n",
              "      <td>3/4/2017</td>\n",
              "      <td>240061</td>\n",
              "      <td>1492913</td>\n",
              "      <td>1855353</td>\n",
              "      <td>1079194579</td>\n",
              "      <td>1</td>\n",
              "      <td>0</td>\n",
              "      <td>NaN</td>\n",
              "    </tr>\n",
              "    <tr>\n",
              "      <th>4</th>\n",
              "      <td>3/5/2017</td>\n",
              "      <td>446314</td>\n",
              "      <td>1594712</td>\n",
              "      <td>2041418</td>\n",
              "      <td>1357736987</td>\n",
              "      <td>0</td>\n",
              "      <td>0</td>\n",
              "      <td>NaN</td>\n",
              "    </tr>\n",
              "  </tbody>\n",
              "</table>\n",
              "</div>"
            ],
            "text/plain": [
              "       Date  Views_show  Visitors  ...  Cricket_match_india  Character_A  Unnamed: 7\n",
              "0  3/1/2017      183738   1260228  ...                    0            0         NaN\n",
              "1  3/2/2017      193763   1270561  ...                    0            0         NaN\n",
              "2  3/3/2017      210479   1248183  ...                    0            0         NaN\n",
              "3  3/4/2017      240061   1492913  ...                    1            0         NaN\n",
              "4  3/5/2017      446314   1594712  ...                    0            0         NaN\n",
              "\n",
              "[5 rows x 8 columns]"
            ]
          },
          "metadata": {
            "tags": []
          },
          "execution_count": 14
        }
      ]
    },
    {
      "cell_type": "code",
      "metadata": {
        "id": "569kwihyoXNJ",
        "colab_type": "code",
        "colab": {}
      },
      "source": [
        "data=data.drop(\"Unnamed: 7\",axis=1)"
      ],
      "execution_count": null,
      "outputs": []
    },
    {
      "cell_type": "code",
      "metadata": {
        "id": "-kHqsP4KowX8",
        "colab_type": "code",
        "colab": {
          "base_uri": "https://localhost:8080/",
          "height": 198
        },
        "outputId": "934b0c7e-7e7e-466a-d5b6-eb2826090b36"
      },
      "source": [
        "data.head()"
      ],
      "execution_count": null,
      "outputs": [
        {
          "output_type": "execute_result",
          "data": {
            "text/html": [
              "<div>\n",
              "<style scoped>\n",
              "    .dataframe tbody tr th:only-of-type {\n",
              "        vertical-align: middle;\n",
              "    }\n",
              "\n",
              "    .dataframe tbody tr th {\n",
              "        vertical-align: top;\n",
              "    }\n",
              "\n",
              "    .dataframe thead th {\n",
              "        text-align: right;\n",
              "    }\n",
              "</style>\n",
              "<table border=\"1\" class=\"dataframe\">\n",
              "  <thead>\n",
              "    <tr style=\"text-align: right;\">\n",
              "      <th></th>\n",
              "      <th>Date</th>\n",
              "      <th>Views_show</th>\n",
              "      <th>Visitors</th>\n",
              "      <th>Views_platform</th>\n",
              "      <th>Ad_impression</th>\n",
              "      <th>Cricket_match_india</th>\n",
              "      <th>Character_A</th>\n",
              "    </tr>\n",
              "  </thead>\n",
              "  <tbody>\n",
              "    <tr>\n",
              "      <th>0</th>\n",
              "      <td>3/1/2017</td>\n",
              "      <td>183738</td>\n",
              "      <td>1260228</td>\n",
              "      <td>1706478</td>\n",
              "      <td>1060860448</td>\n",
              "      <td>0</td>\n",
              "      <td>0</td>\n",
              "    </tr>\n",
              "    <tr>\n",
              "      <th>1</th>\n",
              "      <td>3/2/2017</td>\n",
              "      <td>193763</td>\n",
              "      <td>1270561</td>\n",
              "      <td>1690727</td>\n",
              "      <td>1031846645</td>\n",
              "      <td>0</td>\n",
              "      <td>0</td>\n",
              "    </tr>\n",
              "    <tr>\n",
              "      <th>2</th>\n",
              "      <td>3/3/2017</td>\n",
              "      <td>210479</td>\n",
              "      <td>1248183</td>\n",
              "      <td>1726157</td>\n",
              "      <td>1010867575</td>\n",
              "      <td>0</td>\n",
              "      <td>0</td>\n",
              "    </tr>\n",
              "    <tr>\n",
              "      <th>3</th>\n",
              "      <td>3/4/2017</td>\n",
              "      <td>240061</td>\n",
              "      <td>1492913</td>\n",
              "      <td>1855353</td>\n",
              "      <td>1079194579</td>\n",
              "      <td>1</td>\n",
              "      <td>0</td>\n",
              "    </tr>\n",
              "    <tr>\n",
              "      <th>4</th>\n",
              "      <td>3/5/2017</td>\n",
              "      <td>446314</td>\n",
              "      <td>1594712</td>\n",
              "      <td>2041418</td>\n",
              "      <td>1357736987</td>\n",
              "      <td>0</td>\n",
              "      <td>0</td>\n",
              "    </tr>\n",
              "  </tbody>\n",
              "</table>\n",
              "</div>"
            ],
            "text/plain": [
              "       Date  Views_show  ...  Cricket_match_india  Character_A\n",
              "0  3/1/2017      183738  ...                    0            0\n",
              "1  3/2/2017      193763  ...                    0            0\n",
              "2  3/3/2017      210479  ...                    0            0\n",
              "3  3/4/2017      240061  ...                    1            0\n",
              "4  3/5/2017      446314  ...                    0            0\n",
              "\n",
              "[5 rows x 7 columns]"
            ]
          },
          "metadata": {
            "tags": []
          },
          "execution_count": 16
        }
      ]
    },
    {
      "cell_type": "code",
      "metadata": {
        "id": "uPt_20yRoya5",
        "colab_type": "code",
        "colab": {}
      },
      "source": [
        "data[\"Date\"]=pd.to_datetime(data[\"Date\"])"
      ],
      "execution_count": null,
      "outputs": []
    },
    {
      "cell_type": "code",
      "metadata": {
        "id": "B-91nJX6qKX8",
        "colab_type": "code",
        "colab": {
          "base_uri": "https://localhost:8080/",
          "height": 198
        },
        "outputId": "2ca44f4c-7ded-499c-87eb-0c7e87cf3685"
      },
      "source": [
        "data.head()"
      ],
      "execution_count": null,
      "outputs": [
        {
          "output_type": "execute_result",
          "data": {
            "text/html": [
              "<div>\n",
              "<style scoped>\n",
              "    .dataframe tbody tr th:only-of-type {\n",
              "        vertical-align: middle;\n",
              "    }\n",
              "\n",
              "    .dataframe tbody tr th {\n",
              "        vertical-align: top;\n",
              "    }\n",
              "\n",
              "    .dataframe thead th {\n",
              "        text-align: right;\n",
              "    }\n",
              "</style>\n",
              "<table border=\"1\" class=\"dataframe\">\n",
              "  <thead>\n",
              "    <tr style=\"text-align: right;\">\n",
              "      <th></th>\n",
              "      <th>Date</th>\n",
              "      <th>Views_show</th>\n",
              "      <th>Visitors</th>\n",
              "      <th>Views_platform</th>\n",
              "      <th>Ad_impression</th>\n",
              "      <th>Cricket_match_india</th>\n",
              "      <th>Character_A</th>\n",
              "    </tr>\n",
              "  </thead>\n",
              "  <tbody>\n",
              "    <tr>\n",
              "      <th>0</th>\n",
              "      <td>2017-03-01</td>\n",
              "      <td>183738</td>\n",
              "      <td>1260228</td>\n",
              "      <td>1706478</td>\n",
              "      <td>1060860448</td>\n",
              "      <td>0</td>\n",
              "      <td>0</td>\n",
              "    </tr>\n",
              "    <tr>\n",
              "      <th>1</th>\n",
              "      <td>2017-03-02</td>\n",
              "      <td>193763</td>\n",
              "      <td>1270561</td>\n",
              "      <td>1690727</td>\n",
              "      <td>1031846645</td>\n",
              "      <td>0</td>\n",
              "      <td>0</td>\n",
              "    </tr>\n",
              "    <tr>\n",
              "      <th>2</th>\n",
              "      <td>2017-03-03</td>\n",
              "      <td>210479</td>\n",
              "      <td>1248183</td>\n",
              "      <td>1726157</td>\n",
              "      <td>1010867575</td>\n",
              "      <td>0</td>\n",
              "      <td>0</td>\n",
              "    </tr>\n",
              "    <tr>\n",
              "      <th>3</th>\n",
              "      <td>2017-03-04</td>\n",
              "      <td>240061</td>\n",
              "      <td>1492913</td>\n",
              "      <td>1855353</td>\n",
              "      <td>1079194579</td>\n",
              "      <td>1</td>\n",
              "      <td>0</td>\n",
              "    </tr>\n",
              "    <tr>\n",
              "      <th>4</th>\n",
              "      <td>2017-03-05</td>\n",
              "      <td>446314</td>\n",
              "      <td>1594712</td>\n",
              "      <td>2041418</td>\n",
              "      <td>1357736987</td>\n",
              "      <td>0</td>\n",
              "      <td>0</td>\n",
              "    </tr>\n",
              "  </tbody>\n",
              "</table>\n",
              "</div>"
            ],
            "text/plain": [
              "        Date  Views_show  ...  Cricket_match_india  Character_A\n",
              "0 2017-03-01      183738  ...                    0            0\n",
              "1 2017-03-02      193763  ...                    0            0\n",
              "2 2017-03-03      210479  ...                    0            0\n",
              "3 2017-03-04      240061  ...                    1            0\n",
              "4 2017-03-05      446314  ...                    0            0\n",
              "\n",
              "[5 rows x 7 columns]"
            ]
          },
          "metadata": {
            "tags": []
          },
          "execution_count": 19
        }
      ]
    },
    {
      "cell_type": "code",
      "metadata": {
        "id": "emTrgWamqNR6",
        "colab_type": "code",
        "colab": {}
      },
      "source": [
        "from datetime import datetime"
      ],
      "execution_count": null,
      "outputs": []
    },
    {
      "cell_type": "code",
      "metadata": {
        "id": "hc7aWbiJrhdw",
        "colab_type": "code",
        "colab": {}
      },
      "source": [
        "d0=datetime(2017,2,28)\n",
        "d1=data.Date\n",
        "delta=d1-d0\n",
        "data[\"day\"]=delta"
      ],
      "execution_count": null,
      "outputs": []
    },
    {
      "cell_type": "code",
      "metadata": {
        "id": "1bQKK4uFsFCj",
        "colab_type": "code",
        "colab": {
          "base_uri": "https://localhost:8080/",
          "height": 198
        },
        "outputId": "38f657fe-d9cf-4bdc-e51b-94920c3599e4"
      },
      "source": [
        "data.head()"
      ],
      "execution_count": null,
      "outputs": [
        {
          "output_type": "execute_result",
          "data": {
            "text/html": [
              "<div>\n",
              "<style scoped>\n",
              "    .dataframe tbody tr th:only-of-type {\n",
              "        vertical-align: middle;\n",
              "    }\n",
              "\n",
              "    .dataframe tbody tr th {\n",
              "        vertical-align: top;\n",
              "    }\n",
              "\n",
              "    .dataframe thead th {\n",
              "        text-align: right;\n",
              "    }\n",
              "</style>\n",
              "<table border=\"1\" class=\"dataframe\">\n",
              "  <thead>\n",
              "    <tr style=\"text-align: right;\">\n",
              "      <th></th>\n",
              "      <th>Date</th>\n",
              "      <th>Views_show</th>\n",
              "      <th>Visitors</th>\n",
              "      <th>Views_platform</th>\n",
              "      <th>Ad_impression</th>\n",
              "      <th>Cricket_match_india</th>\n",
              "      <th>Character_A</th>\n",
              "      <th>day</th>\n",
              "    </tr>\n",
              "  </thead>\n",
              "  <tbody>\n",
              "    <tr>\n",
              "      <th>0</th>\n",
              "      <td>2017-03-01</td>\n",
              "      <td>183738</td>\n",
              "      <td>1260228</td>\n",
              "      <td>1706478</td>\n",
              "      <td>1060860448</td>\n",
              "      <td>0</td>\n",
              "      <td>0</td>\n",
              "      <td>1 days</td>\n",
              "    </tr>\n",
              "    <tr>\n",
              "      <th>1</th>\n",
              "      <td>2017-03-02</td>\n",
              "      <td>193763</td>\n",
              "      <td>1270561</td>\n",
              "      <td>1690727</td>\n",
              "      <td>1031846645</td>\n",
              "      <td>0</td>\n",
              "      <td>0</td>\n",
              "      <td>2 days</td>\n",
              "    </tr>\n",
              "    <tr>\n",
              "      <th>2</th>\n",
              "      <td>2017-03-03</td>\n",
              "      <td>210479</td>\n",
              "      <td>1248183</td>\n",
              "      <td>1726157</td>\n",
              "      <td>1010867575</td>\n",
              "      <td>0</td>\n",
              "      <td>0</td>\n",
              "      <td>3 days</td>\n",
              "    </tr>\n",
              "    <tr>\n",
              "      <th>3</th>\n",
              "      <td>2017-03-04</td>\n",
              "      <td>240061</td>\n",
              "      <td>1492913</td>\n",
              "      <td>1855353</td>\n",
              "      <td>1079194579</td>\n",
              "      <td>1</td>\n",
              "      <td>0</td>\n",
              "      <td>4 days</td>\n",
              "    </tr>\n",
              "    <tr>\n",
              "      <th>4</th>\n",
              "      <td>2017-03-05</td>\n",
              "      <td>446314</td>\n",
              "      <td>1594712</td>\n",
              "      <td>2041418</td>\n",
              "      <td>1357736987</td>\n",
              "      <td>0</td>\n",
              "      <td>0</td>\n",
              "      <td>5 days</td>\n",
              "    </tr>\n",
              "  </tbody>\n",
              "</table>\n",
              "</div>"
            ],
            "text/plain": [
              "        Date  Views_show  Visitors  ...  Cricket_match_india  Character_A    day\n",
              "0 2017-03-01      183738   1260228  ...                    0            0 1 days\n",
              "1 2017-03-02      193763   1270561  ...                    0            0 2 days\n",
              "2 2017-03-03      210479   1248183  ...                    0            0 3 days\n",
              "3 2017-03-04      240061   1492913  ...                    1            0 4 days\n",
              "4 2017-03-05      446314   1594712  ...                    0            0 5 days\n",
              "\n",
              "[5 rows x 8 columns]"
            ]
          },
          "metadata": {
            "tags": []
          },
          "execution_count": 27
        }
      ]
    },
    {
      "cell_type": "code",
      "metadata": {
        "id": "NvHU69KvstY9",
        "colab_type": "code",
        "colab": {}
      },
      "source": [
        " data[\"day\"]=data[\"day\"].astype(str)\n",
        " data[\"day\"]=data[\"day\"].map(lambda x:x[0:2])\n",
        " data[\"day\"]=data[\"day\"].astype(int)"
      ],
      "execution_count": null,
      "outputs": []
    },
    {
      "cell_type": "code",
      "metadata": {
        "id": "TIeWXZIqs-x7",
        "colab_type": "code",
        "colab": {
          "base_uri": "https://localhost:8080/",
          "height": 198
        },
        "outputId": "5ffb4e4a-e5a4-4970-bfd4-c86e4afd6ea1"
      },
      "source": [
        "data.head()"
      ],
      "execution_count": null,
      "outputs": [
        {
          "output_type": "execute_result",
          "data": {
            "text/html": [
              "<div>\n",
              "<style scoped>\n",
              "    .dataframe tbody tr th:only-of-type {\n",
              "        vertical-align: middle;\n",
              "    }\n",
              "\n",
              "    .dataframe tbody tr th {\n",
              "        vertical-align: top;\n",
              "    }\n",
              "\n",
              "    .dataframe thead th {\n",
              "        text-align: right;\n",
              "    }\n",
              "</style>\n",
              "<table border=\"1\" class=\"dataframe\">\n",
              "  <thead>\n",
              "    <tr style=\"text-align: right;\">\n",
              "      <th></th>\n",
              "      <th>Date</th>\n",
              "      <th>Views_show</th>\n",
              "      <th>Visitors</th>\n",
              "      <th>Views_platform</th>\n",
              "      <th>Ad_impression</th>\n",
              "      <th>Cricket_match_india</th>\n",
              "      <th>Character_A</th>\n",
              "      <th>day</th>\n",
              "    </tr>\n",
              "  </thead>\n",
              "  <tbody>\n",
              "    <tr>\n",
              "      <th>0</th>\n",
              "      <td>2017-03-01</td>\n",
              "      <td>183738</td>\n",
              "      <td>1260228</td>\n",
              "      <td>1706478</td>\n",
              "      <td>1060860448</td>\n",
              "      <td>0</td>\n",
              "      <td>0</td>\n",
              "      <td>1</td>\n",
              "    </tr>\n",
              "    <tr>\n",
              "      <th>1</th>\n",
              "      <td>2017-03-02</td>\n",
              "      <td>193763</td>\n",
              "      <td>1270561</td>\n",
              "      <td>1690727</td>\n",
              "      <td>1031846645</td>\n",
              "      <td>0</td>\n",
              "      <td>0</td>\n",
              "      <td>2</td>\n",
              "    </tr>\n",
              "    <tr>\n",
              "      <th>2</th>\n",
              "      <td>2017-03-03</td>\n",
              "      <td>210479</td>\n",
              "      <td>1248183</td>\n",
              "      <td>1726157</td>\n",
              "      <td>1010867575</td>\n",
              "      <td>0</td>\n",
              "      <td>0</td>\n",
              "      <td>3</td>\n",
              "    </tr>\n",
              "    <tr>\n",
              "      <th>3</th>\n",
              "      <td>2017-03-04</td>\n",
              "      <td>240061</td>\n",
              "      <td>1492913</td>\n",
              "      <td>1855353</td>\n",
              "      <td>1079194579</td>\n",
              "      <td>1</td>\n",
              "      <td>0</td>\n",
              "      <td>4</td>\n",
              "    </tr>\n",
              "    <tr>\n",
              "      <th>4</th>\n",
              "      <td>2017-03-05</td>\n",
              "      <td>446314</td>\n",
              "      <td>1594712</td>\n",
              "      <td>2041418</td>\n",
              "      <td>1357736987</td>\n",
              "      <td>0</td>\n",
              "      <td>0</td>\n",
              "      <td>5</td>\n",
              "    </tr>\n",
              "  </tbody>\n",
              "</table>\n",
              "</div>"
            ],
            "text/plain": [
              "        Date  Views_show  Visitors  ...  Cricket_match_india  Character_A  day\n",
              "0 2017-03-01      183738   1260228  ...                    0            0    1\n",
              "1 2017-03-02      193763   1270561  ...                    0            0    2\n",
              "2 2017-03-03      210479   1248183  ...                    0            0    3\n",
              "3 2017-03-04      240061   1492913  ...                    1            0    4\n",
              "4 2017-03-05      446314   1594712  ...                    0            0    5\n",
              "\n",
              "[5 rows x 8 columns]"
            ]
          },
          "metadata": {
            "tags": []
          },
          "execution_count": 30
        }
      ]
    },
    {
      "cell_type": "code",
      "metadata": {
        "id": "4VijqlsEtVcO",
        "colab_type": "code",
        "colab": {
          "base_uri": "https://localhost:8080/",
          "height": 279
        },
        "outputId": "f3c5407e-c330-4dd5-d20e-cbe280580148"
      },
      "source": [
        "plt.plot(data[\"day\"],data[\"Views_show\"],color=\"gold\")\n",
        "plt.xlabel(\"day\")\n",
        "plt.ylabel(\"View_show\")\n",
        "plt.show()"
      ],
      "execution_count": null,
      "outputs": [
        {
          "output_type": "display_data",
          "data": {
            "image/png": "[encoded data removed]",
            "text/plain": [
              "<Figure size 432x288 with 1 Axes>"
            ]
          },
          "metadata": {
            "tags": [],
            "needs_background": "light"
          }
        }
      ]
    },
    {
      "cell_type": "code",
      "metadata": {
        "id": "YmIYTlNhtj-G",
        "colab_type": "code",
        "colab": {
          "base_uri": "https://localhost:8080/",
          "height": 283
        },
        "outputId": "52fa2722-6685-499b-bbe0-f3b20c481a58"
      },
      "source": [
        "plt.scatter(data[\"day\"],data[\"Views_show\"],color=\"brown\")"
      ],
      "execution_count": null,
      "outputs": [
        {
          "output_type": "execute_result",
          "data": {
            "text/plain": [
              "<matplotlib.collections.PathCollection at 0x7fa619d39eb8>"
            ]
          },
          "metadata": {
            "tags": []
          },
          "execution_count": 36
        },
        {
          "output_type": "display_data",
          "data": {
            "image/png": "[encoded data removed]",
            "text/plain": [
              "<Figure size 432x288 with 1 Axes>"
            ]
          },
          "metadata": {
            "tags": [],
            "needs_background": "light"
          }
        }
      ]
    },
    {
      "cell_type": "code",
      "metadata": {
        "id": "hYzHIQcFwUFO",
        "colab_type": "code",
        "colab": {
          "base_uri": "https://localhost:8080/",
          "height": 276
        },
        "outputId": "cd5d9ead-629a-4f06-fc7b-406bd35299c6"
      },
      "source": [
        "fig,ax1=plt.subplots()\n",
        "ax1.plot(data[\"day\"],data[\"Views_show\"],color=\"brown\",linewidth=3)\n",
        "ax2=ax1.twinx()\n",
        "ax2.plot(data[\"day\"],data[\"Ad_impression\"],color=\"yellow\",linewidth=3)\n",
        "plt.show()"
      ],
      "execution_count": null,
      "outputs": [
        {
          "output_type": "display_data",
          "data": {
            "image/png": "[encoded data removed]",
            "text/plain": [
              "<Figure size 432x288 with 2 Axes>"
            ]
          },
          "metadata": {
            "tags": [],
            "needs_background": "light"
          }
        }
      ]
    },
    {
      "cell_type": "code",
      "metadata": {
        "id": "NuN9XoNQzv6x",
        "colab_type": "code",
        "colab": {}
      },
      "source": [
        "data[\"weekday\"]=(data[\"day\"]+3)%7\n",
        "data[\"weekday\"]=data[\"weekday\"].astype(int)"
      ],
      "execution_count": null,
      "outputs": []
    },
    {
      "cell_type": "code",
      "metadata": {
        "id": "5QKEL1wt1H30",
        "colab_type": "code",
        "colab": {
          "base_uri": "https://localhost:8080/",
          "height": 198
        },
        "outputId": "259b8714-a48c-4da3-cdfd-1ff71fefcd8f"
      },
      "source": [
        "data.head()"
      ],
      "execution_count": null,
      "outputs": [
        {
          "output_type": "execute_result",
          "data": {
            "text/html": [
              "<div>\n",
              "<style scoped>\n",
              "    .dataframe tbody tr th:only-of-type {\n",
              "        vertical-align: middle;\n",
              "    }\n",
              "\n",
              "    .dataframe tbody tr th {\n",
              "        vertical-align: top;\n",
              "    }\n",
              "\n",
              "    .dataframe thead th {\n",
              "        text-align: right;\n",
              "    }\n",
              "</style>\n",
              "<table border=\"1\" class=\"dataframe\">\n",
              "  <thead>\n",
              "    <tr style=\"text-align: right;\">\n",
              "      <th></th>\n",
              "      <th>Date</th>\n",
              "      <th>Views_show</th>\n",
              "      <th>Visitors</th>\n",
              "      <th>Views_platform</th>\n",
              "      <th>Ad_impression</th>\n",
              "      <th>Cricket_match_india</th>\n",
              "      <th>Character_A</th>\n",
              "      <th>day</th>\n",
              "      <th>weekday</th>\n",
              "    </tr>\n",
              "  </thead>\n",
              "  <tbody>\n",
              "    <tr>\n",
              "      <th>0</th>\n",
              "      <td>2017-03-01</td>\n",
              "      <td>183738</td>\n",
              "      <td>1260228</td>\n",
              "      <td>1706478</td>\n",
              "      <td>1060860448</td>\n",
              "      <td>0</td>\n",
              "      <td>0</td>\n",
              "      <td>1</td>\n",
              "      <td>4</td>\n",
              "    </tr>\n",
              "    <tr>\n",
              "      <th>1</th>\n",
              "      <td>2017-03-02</td>\n",
              "      <td>193763</td>\n",
              "      <td>1270561</td>\n",
              "      <td>1690727</td>\n",
              "      <td>1031846645</td>\n",
              "      <td>0</td>\n",
              "      <td>0</td>\n",
              "      <td>2</td>\n",
              "      <td>5</td>\n",
              "    </tr>\n",
              "    <tr>\n",
              "      <th>2</th>\n",
              "      <td>2017-03-03</td>\n",
              "      <td>210479</td>\n",
              "      <td>1248183</td>\n",
              "      <td>1726157</td>\n",
              "      <td>1010867575</td>\n",
              "      <td>0</td>\n",
              "      <td>0</td>\n",
              "      <td>3</td>\n",
              "      <td>6</td>\n",
              "    </tr>\n",
              "    <tr>\n",
              "      <th>3</th>\n",
              "      <td>2017-03-04</td>\n",
              "      <td>240061</td>\n",
              "      <td>1492913</td>\n",
              "      <td>1855353</td>\n",
              "      <td>1079194579</td>\n",
              "      <td>1</td>\n",
              "      <td>0</td>\n",
              "      <td>4</td>\n",
              "      <td>0</td>\n",
              "    </tr>\n",
              "    <tr>\n",
              "      <th>4</th>\n",
              "      <td>2017-03-05</td>\n",
              "      <td>446314</td>\n",
              "      <td>1594712</td>\n",
              "      <td>2041418</td>\n",
              "      <td>1357736987</td>\n",
              "      <td>0</td>\n",
              "      <td>0</td>\n",
              "      <td>5</td>\n",
              "      <td>1</td>\n",
              "    </tr>\n",
              "  </tbody>\n",
              "</table>\n",
              "</div>"
            ],
            "text/plain": [
              "        Date  Views_show  Visitors  ...  Character_A  day  weekday\n",
              "0 2017-03-01      183738   1260228  ...            0    1        4\n",
              "1 2017-03-02      193763   1270561  ...            0    2        5\n",
              "2 2017-03-03      210479   1248183  ...            0    3        6\n",
              "3 2017-03-04      240061   1492913  ...            0    4        0\n",
              "4 2017-03-05      446314   1594712  ...            0    5        1\n",
              "\n",
              "[5 rows x 9 columns]"
            ]
          },
          "metadata": {
            "tags": []
          },
          "execution_count": 65
        }
      ]
    },
    {
      "cell_type": "markdown",
      "metadata": {
        "id": "LZJ0p9X62NXR",
        "colab_type": "text"
      },
      "source": [
        "#**Model**"
      ]
    },
    {
      "cell_type": "code",
      "metadata": {
        "id": "VZO5jxWm1aDs",
        "colab_type": "code",
        "colab": {}
      },
      "source": [
        "x=data[[\"Visitors\",\"weekday\"]]\n",
        "y=data[\"Views_show\"]"
      ],
      "execution_count": null,
      "outputs": []
    },
    {
      "cell_type": "code",
      "metadata": {
        "id": "zeI69KDY2qWi",
        "colab_type": "code",
        "colab": {}
      },
      "source": [
        "from sklearn.model_selection import train_test_split\n",
        "x_train,x_test,y_train,y_test=train_test_split(x,y,test_size=0.2,random_state=0)"
      ],
      "execution_count": null,
      "outputs": []
    },
    {
      "cell_type": "code",
      "metadata": {
        "id": "tQtJvdxr3Zu4",
        "colab_type": "code",
        "colab": {
          "base_uri": "https://localhost:8080/",
          "height": 35
        },
        "outputId": "f4dc9732-ec6e-4ae7-eac7-1c571e604448"
      },
      "source": [
        "x_train.shape"
      ],
      "execution_count": null,
      "outputs": [
        {
          "output_type": "execute_result",
          "data": {
            "text/plain": [
              "(64, 2)"
            ]
          },
          "metadata": {
            "tags": []
          },
          "execution_count": 93
        }
      ]
    },
    {
      "cell_type": "code",
      "metadata": {
        "id": "cXUNzyG_3d1y",
        "colab_type": "code",
        "colab": {
          "base_uri": "https://localhost:8080/",
          "height": 35
        },
        "outputId": "a75f75c0-307e-46ce-ebd5-f7d5cdefea6d"
      },
      "source": [
        "y_train.shape"
      ],
      "execution_count": null,
      "outputs": [
        {
          "output_type": "execute_result",
          "data": {
            "text/plain": [
              "(64,)"
            ]
          },
          "metadata": {
            "tags": []
          },
          "execution_count": 94
        }
      ]
    },
    {
      "cell_type": "code",
      "metadata": {
        "id": "i9PPaCnq3Byn",
        "colab_type": "code",
        "colab": {}
      },
      "source": [
        "from sklearn.linear_model import LinearRegression"
      ],
      "execution_count": null,
      "outputs": []
    },
    {
      "cell_type": "code",
      "metadata": {
        "id": "UnH_Ye6x3HuH",
        "colab_type": "code",
        "colab": {}
      },
      "source": [
        "lm=LinearRegression()"
      ],
      "execution_count": null,
      "outputs": []
    },
    {
      "cell_type": "code",
      "metadata": {
        "id": "dwMASWVH3Jr6",
        "colab_type": "code",
        "colab": {
          "base_uri": "https://localhost:8080/",
          "height": 35
        },
        "outputId": "e1cd65da-4f50-42fb-afd6-2b4f0dbffebe"
      },
      "source": [
        "lm.fit(x_train,y_train)"
      ],
      "execution_count": null,
      "outputs": [
        {
          "output_type": "execute_result",
          "data": {
            "text/plain": [
              "LinearRegression(copy_X=True, fit_intercept=True, n_jobs=None, normalize=False)"
            ]
          },
          "metadata": {
            "tags": []
          },
          "execution_count": 97
        }
      ]
    },
    {
      "cell_type": "code",
      "metadata": {
        "id": "qTG3QCrK3Op2",
        "colab_type": "code",
        "colab": {}
      },
      "source": [
        "y_pred=lm.predict(x_test)"
      ],
      "execution_count": null,
      "outputs": []
    },
    {
      "cell_type": "code",
      "metadata": {
        "id": "7ph0rdxu3p64",
        "colab_type": "code",
        "colab": {}
      },
      "source": [
        "import statsmodels.api as sm "
      ],
      "execution_count": null,
      "outputs": []
    },
    {
      "cell_type": "code",
      "metadata": {
        "id": "BCxxr6El35Z_",
        "colab_type": "code",
        "colab": {}
      },
      "source": [
        "x_train1=sm.add_constant(x_train)\n",
        "a=sm.OLS(y_train,x_train1).fit()"
      ],
      "execution_count": null,
      "outputs": []
    },
    {
      "cell_type": "code",
      "metadata": {
        "id": "nDcK9tIH4Bw_",
        "colab_type": "code",
        "colab": {
          "base_uri": "https://localhost:8080/",
          "height": 499
        },
        "outputId": "9a87b6a6-51c2-4e9b-e707-f337d438b532"
      },
      "source": [
        "a.summary()"
      ],
      "execution_count": null,
      "outputs": [
        {
          "output_type": "execute_result",
          "data": {
            "text/html": [
              "<table class=\"simpletable\">\n",
              "<caption>OLS Regression Results</caption>\n",
              "<tr>\n",
              "  <th>Dep. Variable:</th>       <td>Views_show</td>    <th>  R-squared:         </th> <td>   0.522</td>\n",
              "</tr>\n",
              "<tr>\n",
              "  <th>Model:</th>                   <td>OLS</td>       <th>  Adj. R-squared:    </th> <td>   0.507</td>\n",
              "</tr>\n",
              "<tr>\n",
              "  <th>Method:</th>             <td>Least Squares</td>  <th>  F-statistic:       </th> <td>   33.37</td>\n",
              "</tr>\n",
              "<tr>\n",
              "  <th>Date:</th>             <td>Thu, 16 Jul 2020</td> <th>  Prob (F-statistic):</th> <td>1.62e-10</td>\n",
              "</tr>\n",
              "<tr>\n",
              "  <th>Time:</th>                 <td>18:31:38</td>     <th>  Log-Likelihood:    </th> <td> -834.76</td>\n",
              "</tr>\n",
              "<tr>\n",
              "  <th>No. Observations:</th>      <td>    64</td>      <th>  AIC:               </th> <td>   1676.</td>\n",
              "</tr>\n",
              "<tr>\n",
              "  <th>Df Residuals:</th>          <td>    61</td>      <th>  BIC:               </th> <td>   1682.</td>\n",
              "</tr>\n",
              "<tr>\n",
              "  <th>Df Model:</th>              <td>     2</td>      <th>                     </th>     <td> </td>   \n",
              "</tr>\n",
              "<tr>\n",
              "  <th>Covariance Type:</th>      <td>nonrobust</td>    <th>                     </th>     <td> </td>   \n",
              "</tr>\n",
              "</table>\n",
              "<table class=\"simpletable\">\n",
              "<tr>\n",
              "      <td></td>        <th>coef</th>     <th>std err</th>      <th>t</th>      <th>P>|t|</th>  <th>[0.025</th>    <th>0.975]</th>  \n",
              "</tr>\n",
              "<tr>\n",
              "  <th>const</th>    <td>-6.586e+04</td> <td> 1.23e+05</td> <td>   -0.534</td> <td> 0.595</td> <td>-3.12e+05</td> <td> 1.81e+05</td>\n",
              "</tr>\n",
              "<tr>\n",
              "  <th>Visitors</th> <td>    0.2814</td> <td>    0.066</td> <td>    4.265</td> <td> 0.000</td> <td>    0.149</td> <td>    0.413</td>\n",
              "</tr>\n",
              "<tr>\n",
              "  <th>weekday</th>  <td>-3.664e+04</td> <td> 7797.806</td> <td>   -4.699</td> <td> 0.000</td> <td>-5.22e+04</td> <td> -2.1e+04</td>\n",
              "</tr>\n",
              "</table>\n",
              "<table class=\"simpletable\">\n",
              "<tr>\n",
              "  <th>Omnibus:</th>       <td> 1.340</td> <th>  Durbin-Watson:     </th> <td>   1.813</td>\n",
              "</tr>\n",
              "<tr>\n",
              "  <th>Prob(Omnibus):</th> <td> 0.512</td> <th>  Jarque-Bera (JB):  </th> <td>   1.320</td>\n",
              "</tr>\n",
              "<tr>\n",
              "  <th>Skew:</th>          <td> 0.328</td> <th>  Prob(JB):          </th> <td>   0.517</td>\n",
              "</tr>\n",
              "<tr>\n",
              "  <th>Kurtosis:</th>      <td> 2.745</td> <th>  Cond. No.          </th> <td>1.47e+07</td>\n",
              "</tr>\n",
              "</table><br/><br/>Warnings:<br/>[1] Standard Errors assume that the covariance matrix of the errors is correctly specified.<br/>[2] The condition number is large, 1.47e+07. This might indicate that there are<br/>strong multicollinearity or other numerical problems."
            ],
            "text/plain": [
              "<class 'statsmodels.iolib.summary.Summary'>\n",
              "\"\"\"\n",
              "                            OLS Regression Results                            \n",
              "==============================================================================\n",
              "Dep. Variable:             Views_show   R-squared:                       0.522\n",
              "Model:                            OLS   Adj. R-squared:                  0.507\n",
              "Method:                 Least Squares   F-statistic:                     33.37\n",
              "Date:                Thu, 16 Jul 2020   Prob (F-statistic):           1.62e-10\n",
              "Time:                        18:31:38   Log-Likelihood:                -834.76\n",
              "No. Observations:                  64   AIC:                             1676.\n",
              "Df Residuals:                      61   BIC:                             1682.\n",
              "Df Model:                           2                                         \n",
              "Covariance Type:            nonrobust                                         \n",
              "==============================================================================\n",
              "                 coef    std err          t      P>|t|      [0.025      0.975]\n",
              "------------------------------------------------------------------------------\n",
              "const      -6.586e+04   1.23e+05     -0.534      0.595   -3.12e+05    1.81e+05\n",
              "Visitors       0.2814      0.066      4.265      0.000       0.149       0.413\n",
              "weekday    -3.664e+04   7797.806     -4.699      0.000   -5.22e+04    -2.1e+04\n",
              "==============================================================================\n",
              "Omnibus:                        1.340   Durbin-Watson:                   1.813\n",
              "Prob(Omnibus):                  0.512   Jarque-Bera (JB):                1.320\n",
              "Skew:                           0.328   Prob(JB):                        0.517\n",
              "Kurtosis:                       2.745   Cond. No.                     1.47e+07\n",
              "==============================================================================\n",
              "\n",
              "Warnings:\n",
              "[1] Standard Errors assume that the covariance matrix of the errors is correctly specified.\n",
              "[2] The condition number is large, 1.47e+07. This might indicate that there are\n",
              "strong multicollinearity or other numerical problems.\n",
              "\"\"\""
            ]
          },
          "metadata": {
            "tags": []
          },
          "execution_count": 112
        }
      ]
    },
    {
      "cell_type": "code",
      "metadata": {
        "id": "45l1E-Ms5G2M",
        "colab_type": "code",
        "colab": {}
      },
      "source": [
        "def condn(i):\n",
        "  if i%7==5 or i%7==4:\n",
        "    return 1\n",
        "  else: \n",
        "    return 0\n",
        "data[\"weekday\"]=[condn(i)  for i in data[\"day\"] ]    "
      ],
      "execution_count": null,
      "outputs": []
    },
    {
      "cell_type": "code",
      "metadata": {
        "id": "YUav24gr6k1S",
        "colab_type": "code",
        "colab": {
          "base_uri": "https://localhost:8080/",
          "height": 198
        },
        "outputId": "227e8cc4-d206-4842-d557-911be48f7132"
      },
      "source": [
        "data.head()"
      ],
      "execution_count": null,
      "outputs": [
        {
          "output_type": "execute_result",
          "data": {
            "text/html": [
              "<div>\n",
              "<style scoped>\n",
              "    .dataframe tbody tr th:only-of-type {\n",
              "        vertical-align: middle;\n",
              "    }\n",
              "\n",
              "    .dataframe tbody tr th {\n",
              "        vertical-align: top;\n",
              "    }\n",
              "\n",
              "    .dataframe thead th {\n",
              "        text-align: right;\n",
              "    }\n",
              "</style>\n",
              "<table border=\"1\" class=\"dataframe\">\n",
              "  <thead>\n",
              "    <tr style=\"text-align: right;\">\n",
              "      <th></th>\n",
              "      <th>Date</th>\n",
              "      <th>Views_show</th>\n",
              "      <th>Visitors</th>\n",
              "      <th>Views_platform</th>\n",
              "      <th>Ad_impression</th>\n",
              "      <th>Cricket_match_india</th>\n",
              "      <th>Character_A</th>\n",
              "      <th>day</th>\n",
              "      <th>weekday</th>\n",
              "    </tr>\n",
              "  </thead>\n",
              "  <tbody>\n",
              "    <tr>\n",
              "      <th>0</th>\n",
              "      <td>2017-03-01</td>\n",
              "      <td>183738</td>\n",
              "      <td>1260228</td>\n",
              "      <td>1706478</td>\n",
              "      <td>1060860448</td>\n",
              "      <td>0</td>\n",
              "      <td>0</td>\n",
              "      <td>1</td>\n",
              "      <td>0</td>\n",
              "    </tr>\n",
              "    <tr>\n",
              "      <th>1</th>\n",
              "      <td>2017-03-02</td>\n",
              "      <td>193763</td>\n",
              "      <td>1270561</td>\n",
              "      <td>1690727</td>\n",
              "      <td>1031846645</td>\n",
              "      <td>0</td>\n",
              "      <td>0</td>\n",
              "      <td>2</td>\n",
              "      <td>0</td>\n",
              "    </tr>\n",
              "    <tr>\n",
              "      <th>2</th>\n",
              "      <td>2017-03-03</td>\n",
              "      <td>210479</td>\n",
              "      <td>1248183</td>\n",
              "      <td>1726157</td>\n",
              "      <td>1010867575</td>\n",
              "      <td>0</td>\n",
              "      <td>0</td>\n",
              "      <td>3</td>\n",
              "      <td>0</td>\n",
              "    </tr>\n",
              "    <tr>\n",
              "      <th>3</th>\n",
              "      <td>2017-03-04</td>\n",
              "      <td>240061</td>\n",
              "      <td>1492913</td>\n",
              "      <td>1855353</td>\n",
              "      <td>1079194579</td>\n",
              "      <td>1</td>\n",
              "      <td>0</td>\n",
              "      <td>4</td>\n",
              "      <td>1</td>\n",
              "    </tr>\n",
              "    <tr>\n",
              "      <th>4</th>\n",
              "      <td>2017-03-05</td>\n",
              "      <td>446314</td>\n",
              "      <td>1594712</td>\n",
              "      <td>2041418</td>\n",
              "      <td>1357736987</td>\n",
              "      <td>0</td>\n",
              "      <td>0</td>\n",
              "      <td>5</td>\n",
              "      <td>1</td>\n",
              "    </tr>\n",
              "  </tbody>\n",
              "</table>\n",
              "</div>"
            ],
            "text/plain": [
              "        Date  Views_show  Visitors  ...  Character_A  day  weekday\n",
              "0 2017-03-01      183738   1260228  ...            0    1        0\n",
              "1 2017-03-02      193763   1270561  ...            0    2        0\n",
              "2 2017-03-03      210479   1248183  ...            0    3        0\n",
              "3 2017-03-04      240061   1492913  ...            0    4        1\n",
              "4 2017-03-05      446314   1594712  ...            0    5        1\n",
              "\n",
              "[5 rows x 9 columns]"
            ]
          },
          "metadata": {
            "tags": []
          },
          "execution_count": 114
        }
      ]
    },
    {
      "cell_type": "code",
      "metadata": {
        "id": "p_MxYtED62zW",
        "colab_type": "code",
        "colab": {}
      },
      "source": [
        "x=data[[\"Visitors\",\"weekday\"]]\n",
        "y=data[\"Views_show\"]"
      ],
      "execution_count": null,
      "outputs": []
    },
    {
      "cell_type": "code",
      "metadata": {
        "id": "RUX2Tb8B63YS",
        "colab_type": "code",
        "colab": {}
      },
      "source": [
        "from sklearn.model_selection import train_test_split\n",
        "x_train,x_test,y_train,y_test=train_test_split(x,y,test_size=0.2,random_state=0)"
      ],
      "execution_count": null,
      "outputs": []
    },
    {
      "cell_type": "code",
      "metadata": {
        "id": "5jEpZeMG69bY",
        "colab_type": "code",
        "colab": {}
      },
      "source": [
        "import statsmodels.api as sm "
      ],
      "execution_count": null,
      "outputs": []
    },
    {
      "cell_type": "code",
      "metadata": {
        "id": "OVUyzoYL7Ayx",
        "colab_type": "code",
        "colab": {}
      },
      "source": [
        "x_train1=sm.add_constant(x_train)\n",
        "a=sm.OLS(y_train,x_train1).fit()"
      ],
      "execution_count": null,
      "outputs": []
    },
    {
      "cell_type": "code",
      "metadata": {
        "id": "Wi8Fs2v97Gd3",
        "colab_type": "code",
        "colab": {
          "base_uri": "https://localhost:8080/",
          "height": 499
        },
        "outputId": "12e146d5-5cf1-4051-f835-991b6e2c72a3"
      },
      "source": [
        "a.summary()    # little r2 increased"
      ],
      "execution_count": null,
      "outputs": [
        {
          "output_type": "execute_result",
          "data": {
            "text/html": [
              "<table class=\"simpletable\">\n",
              "<caption>OLS Regression Results</caption>\n",
              "<tr>\n",
              "  <th>Dep. Variable:</th>       <td>Views_show</td>    <th>  R-squared:         </th> <td>   0.553</td>\n",
              "</tr>\n",
              "<tr>\n",
              "  <th>Model:</th>                   <td>OLS</td>       <th>  Adj. R-squared:    </th> <td>   0.539</td>\n",
              "</tr>\n",
              "<tr>\n",
              "  <th>Method:</th>             <td>Least Squares</td>  <th>  F-statistic:       </th> <td>   37.77</td>\n",
              "</tr>\n",
              "<tr>\n",
              "  <th>Date:</th>             <td>Thu, 16 Jul 2020</td> <th>  Prob (F-statistic):</th> <td>2.13e-11</td>\n",
              "</tr>\n",
              "<tr>\n",
              "  <th>Time:</th>                 <td>18:39:54</td>     <th>  Log-Likelihood:    </th> <td> -832.62</td>\n",
              "</tr>\n",
              "<tr>\n",
              "  <th>No. Observations:</th>      <td>    64</td>      <th>  AIC:               </th> <td>   1671.</td>\n",
              "</tr>\n",
              "<tr>\n",
              "  <th>Df Residuals:</th>          <td>    61</td>      <th>  BIC:               </th> <td>   1678.</td>\n",
              "</tr>\n",
              "<tr>\n",
              "  <th>Df Model:</th>              <td>     2</td>      <th>                     </th>     <td> </td>   \n",
              "</tr>\n",
              "<tr>\n",
              "  <th>Covariance Type:</th>      <td>nonrobust</td>    <th>                     </th>     <td> </td>   \n",
              "</tr>\n",
              "</table>\n",
              "<table class=\"simpletable\">\n",
              "<tr>\n",
              "      <td></td>        <th>coef</th>     <th>std err</th>      <th>t</th>      <th>P>|t|</th>  <th>[0.025</th>    <th>0.975]</th>  \n",
              "</tr>\n",
              "<tr>\n",
              "  <th>const</th>    <td>-1.694e+05</td> <td> 1.08e+05</td> <td>   -1.574</td> <td> 0.121</td> <td>-3.85e+05</td> <td> 4.58e+04</td>\n",
              "</tr>\n",
              "<tr>\n",
              "  <th>Visitors</th> <td>    0.2452</td> <td>    0.066</td> <td>    3.721</td> <td> 0.000</td> <td>    0.113</td> <td>    0.377</td>\n",
              "</tr>\n",
              "<tr>\n",
              "  <th>weekday</th>  <td> 1.798e+05</td> <td> 3.41e+04</td> <td>    5.273</td> <td> 0.000</td> <td> 1.12e+05</td> <td> 2.48e+05</td>\n",
              "</tr>\n",
              "</table>\n",
              "<table class=\"simpletable\">\n",
              "<tr>\n",
              "  <th>Omnibus:</th>       <td> 0.437</td> <th>  Durbin-Watson:     </th> <td>   1.769</td>\n",
              "</tr>\n",
              "<tr>\n",
              "  <th>Prob(Omnibus):</th> <td> 0.804</td> <th>  Jarque-Bera (JB):  </th> <td>   0.545</td>\n",
              "</tr>\n",
              "<tr>\n",
              "  <th>Skew:</th>          <td> 0.179</td> <th>  Prob(JB):          </th> <td>   0.762</td>\n",
              "</tr>\n",
              "<tr>\n",
              "  <th>Kurtosis:</th>      <td> 2.724</td> <th>  Cond. No.          </th> <td>1.33e+07</td>\n",
              "</tr>\n",
              "</table><br/><br/>Warnings:<br/>[1] Standard Errors assume that the covariance matrix of the errors is correctly specified.<br/>[2] The condition number is large, 1.33e+07. This might indicate that there are<br/>strong multicollinearity or other numerical problems."
            ],
            "text/plain": [
              "<class 'statsmodels.iolib.summary.Summary'>\n",
              "\"\"\"\n",
              "                            OLS Regression Results                            \n",
              "==============================================================================\n",
              "Dep. Variable:             Views_show   R-squared:                       0.553\n",
              "Model:                            OLS   Adj. R-squared:                  0.539\n",
              "Method:                 Least Squares   F-statistic:                     37.77\n",
              "Date:                Thu, 16 Jul 2020   Prob (F-statistic):           2.13e-11\n",
              "Time:                        18:39:54   Log-Likelihood:                -832.62\n",
              "No. Observations:                  64   AIC:                             1671.\n",
              "Df Residuals:                      61   BIC:                             1678.\n",
              "Df Model:                           2                                         \n",
              "Covariance Type:            nonrobust                                         \n",
              "==============================================================================\n",
              "                 coef    std err          t      P>|t|      [0.025      0.975]\n",
              "------------------------------------------------------------------------------\n",
              "const      -1.694e+05   1.08e+05     -1.574      0.121   -3.85e+05    4.58e+04\n",
              "Visitors       0.2452      0.066      3.721      0.000       0.113       0.377\n",
              "weekday     1.798e+05   3.41e+04      5.273      0.000    1.12e+05    2.48e+05\n",
              "==============================================================================\n",
              "Omnibus:                        0.437   Durbin-Watson:                   1.769\n",
              "Prob(Omnibus):                  0.804   Jarque-Bera (JB):                0.545\n",
              "Skew:                           0.179   Prob(JB):                        0.762\n",
              "Kurtosis:                       2.724   Cond. No.                     1.33e+07\n",
              "==============================================================================\n",
              "\n",
              "Warnings:\n",
              "[1] Standard Errors assume that the covariance matrix of the errors is correctly specified.\n",
              "[2] The condition number is large, 1.33e+07. This might indicate that there are\n",
              "strong multicollinearity or other numerical problems.\n",
              "\"\"\""
            ]
          },
          "metadata": {
            "tags": []
          },
          "execution_count": 120
        }
      ]
    },
    {
      "cell_type": "code",
      "metadata": {
        "id": "lMO1f10p7Jgs",
        "colab_type": "code",
        "colab": {}
      },
      "source": [
        "x=data[[\"Visitors\",\"weekday\",\"Character_A\"]]\n",
        "y=data[\"Views_show\"]"
      ],
      "execution_count": null,
      "outputs": []
    },
    {
      "cell_type": "code",
      "metadata": {
        "id": "jSByU0J27g2C",
        "colab_type": "code",
        "colab": {}
      },
      "source": [
        "x_train,x_test,y_train,y_test=train_test_split(x,y,test_size=0.2,random_state=0)"
      ],
      "execution_count": null,
      "outputs": []
    },
    {
      "cell_type": "code",
      "metadata": {
        "id": "kdRRXVQL7j4U",
        "colab_type": "code",
        "colab": {}
      },
      "source": [
        "x_train1=sm.add_constant(x_train)\n",
        "a=sm.OLS(y_train,x_train1).fit()"
      ],
      "execution_count": null,
      "outputs": []
    },
    {
      "cell_type": "code",
      "metadata": {
        "id": "2F0fVoHa7mkH",
        "colab_type": "code",
        "colab": {
          "base_uri": "https://localhost:8080/",
          "height": 520
        },
        "outputId": "85e84197-b83b-435e-b6f2-4b41f43aeb5e"
      },
      "source": [
        "a.summary()"
      ],
      "execution_count": null,
      "outputs": [
        {
          "output_type": "execute_result",
          "data": {
            "text/html": [
              "<table class=\"simpletable\">\n",
              "<caption>OLS Regression Results</caption>\n",
              "<tr>\n",
              "  <th>Dep. Variable:</th>       <td>Views_show</td>    <th>  R-squared:         </th> <td>   0.617</td>\n",
              "</tr>\n",
              "<tr>\n",
              "  <th>Model:</th>                   <td>OLS</td>       <th>  Adj. R-squared:    </th> <td>   0.598</td>\n",
              "</tr>\n",
              "<tr>\n",
              "  <th>Method:</th>             <td>Least Squares</td>  <th>  F-statistic:       </th> <td>   32.28</td>\n",
              "</tr>\n",
              "<tr>\n",
              "  <th>Date:</th>             <td>Thu, 16 Jul 2020</td> <th>  Prob (F-statistic):</th> <td>1.50e-12</td>\n",
              "</tr>\n",
              "<tr>\n",
              "  <th>Time:</th>                 <td>18:41:32</td>     <th>  Log-Likelihood:    </th> <td> -827.66</td>\n",
              "</tr>\n",
              "<tr>\n",
              "  <th>No. Observations:</th>      <td>    64</td>      <th>  AIC:               </th> <td>   1663.</td>\n",
              "</tr>\n",
              "<tr>\n",
              "  <th>Df Residuals:</th>          <td>    60</td>      <th>  BIC:               </th> <td>   1672.</td>\n",
              "</tr>\n",
              "<tr>\n",
              "  <th>Df Model:</th>              <td>     3</td>      <th>                     </th>     <td> </td>   \n",
              "</tr>\n",
              "<tr>\n",
              "  <th>Covariance Type:</th>      <td>nonrobust</td>    <th>                     </th>     <td> </td>   \n",
              "</tr>\n",
              "</table>\n",
              "<table class=\"simpletable\">\n",
              "<tr>\n",
              "       <td></td>          <th>coef</th>     <th>std err</th>      <th>t</th>      <th>P>|t|</th>  <th>[0.025</th>    <th>0.975]</th>  \n",
              "</tr>\n",
              "<tr>\n",
              "  <th>const</th>       <td>-1.331e+05</td> <td> 1.01e+05</td> <td>   -1.317</td> <td> 0.193</td> <td>-3.35e+05</td> <td>  6.9e+04</td>\n",
              "</tr>\n",
              "<tr>\n",
              "  <th>Visitors</th>    <td>    0.2057</td> <td>    0.063</td> <td>    3.278</td> <td> 0.002</td> <td>    0.080</td> <td>    0.331</td>\n",
              "</tr>\n",
              "<tr>\n",
              "  <th>weekday</th>     <td> 1.794e+05</td> <td> 3.18e+04</td> <td>    5.640</td> <td> 0.000</td> <td> 1.16e+05</td> <td> 2.43e+05</td>\n",
              "</tr>\n",
              "<tr>\n",
              "  <th>Character_A</th> <td> 8.854e+04</td> <td> 2.79e+04</td> <td>    3.174</td> <td> 0.002</td> <td> 3.27e+04</td> <td> 1.44e+05</td>\n",
              "</tr>\n",
              "</table>\n",
              "<table class=\"simpletable\">\n",
              "<tr>\n",
              "  <th>Omnibus:</th>       <td> 0.861</td> <th>  Durbin-Watson:     </th> <td>   1.788</td>\n",
              "</tr>\n",
              "<tr>\n",
              "  <th>Prob(Omnibus):</th> <td> 0.650</td> <th>  Jarque-Bera (JB):  </th> <td>   0.895</td>\n",
              "</tr>\n",
              "<tr>\n",
              "  <th>Skew:</th>          <td>-0.131</td> <th>  Prob(JB):          </th> <td>   0.639</td>\n",
              "</tr>\n",
              "<tr>\n",
              "  <th>Kurtosis:</th>      <td> 2.483</td> <th>  Cond. No.          </th> <td>1.34e+07</td>\n",
              "</tr>\n",
              "</table><br/><br/>Warnings:<br/>[1] Standard Errors assume that the covariance matrix of the errors is correctly specified.<br/>[2] The condition number is large, 1.34e+07. This might indicate that there are<br/>strong multicollinearity or other numerical problems."
            ],
            "text/plain": [
              "<class 'statsmodels.iolib.summary.Summary'>\n",
              "\"\"\"\n",
              "                            OLS Regression Results                            \n",
              "==============================================================================\n",
              "Dep. Variable:             Views_show   R-squared:                       0.617\n",
              "Model:                            OLS   Adj. R-squared:                  0.598\n",
              "Method:                 Least Squares   F-statistic:                     32.28\n",
              "Date:                Thu, 16 Jul 2020   Prob (F-statistic):           1.50e-12\n",
              "Time:                        18:41:32   Log-Likelihood:                -827.66\n",
              "No. Observations:                  64   AIC:                             1663.\n",
              "Df Residuals:                      60   BIC:                             1672.\n",
              "Df Model:                           3                                         \n",
              "Covariance Type:            nonrobust                                         \n",
              "===============================================================================\n",
              "                  coef    std err          t      P>|t|      [0.025      0.975]\n",
              "-------------------------------------------------------------------------------\n",
              "const       -1.331e+05   1.01e+05     -1.317      0.193   -3.35e+05     6.9e+04\n",
              "Visitors        0.2057      0.063      3.278      0.002       0.080       0.331\n",
              "weekday      1.794e+05   3.18e+04      5.640      0.000    1.16e+05    2.43e+05\n",
              "Character_A  8.854e+04   2.79e+04      3.174      0.002    3.27e+04    1.44e+05\n",
              "==============================================================================\n",
              "Omnibus:                        0.861   Durbin-Watson:                   1.788\n",
              "Prob(Omnibus):                  0.650   Jarque-Bera (JB):                0.895\n",
              "Skew:                          -0.131   Prob(JB):                        0.639\n",
              "Kurtosis:                       2.483   Cond. No.                     1.34e+07\n",
              "==============================================================================\n",
              "\n",
              "Warnings:\n",
              "[1] Standard Errors assume that the covariance matrix of the errors is correctly specified.\n",
              "[2] The condition number is large, 1.34e+07. This might indicate that there are\n",
              "strong multicollinearity or other numerical problems.\n",
              "\"\"\""
            ]
          },
          "metadata": {
            "tags": []
          },
          "execution_count": 124
        }
      ]
    },
    {
      "cell_type": "code",
      "metadata": {
        "id": "zeHPB_zX_bNt",
        "colab_type": "code",
        "colab": {
          "base_uri": "https://localhost:8080/",
          "height": 198
        },
        "outputId": "09297326-44df-49fa-92b0-d3756cb572cc"
      },
      "source": [
        "data.tail()"
      ],
      "execution_count": null,
      "outputs": [
        {
          "output_type": "execute_result",
          "data": {
            "text/html": [
              "<div>\n",
              "<style scoped>\n",
              "    .dataframe tbody tr th:only-of-type {\n",
              "        vertical-align: middle;\n",
              "    }\n",
              "\n",
              "    .dataframe tbody tr th {\n",
              "        vertical-align: top;\n",
              "    }\n",
              "\n",
              "    .dataframe thead th {\n",
              "        text-align: right;\n",
              "    }\n",
              "</style>\n",
              "<table border=\"1\" class=\"dataframe\">\n",
              "  <thead>\n",
              "    <tr style=\"text-align: right;\">\n",
              "      <th></th>\n",
              "      <th>Date</th>\n",
              "      <th>Views_show</th>\n",
              "      <th>Visitors</th>\n",
              "      <th>Views_platform</th>\n",
              "      <th>Ad_impression</th>\n",
              "      <th>Cricket_match_india</th>\n",
              "      <th>Character_A</th>\n",
              "      <th>day</th>\n",
              "      <th>weekday</th>\n",
              "      <th>prev_views</th>\n",
              "    </tr>\n",
              "  </thead>\n",
              "  <tbody>\n",
              "    <tr>\n",
              "      <th>75</th>\n",
              "      <td>2017-05-15</td>\n",
              "      <td>313945</td>\n",
              "      <td>1808684</td>\n",
              "      <td>2226788</td>\n",
              "      <td>1398052759</td>\n",
              "      <td>1</td>\n",
              "      <td>0</td>\n",
              "      <td>76</td>\n",
              "      <td>0</td>\n",
              "      <td>631962</td>\n",
              "    </tr>\n",
              "    <tr>\n",
              "      <th>76</th>\n",
              "      <td>2017-05-16</td>\n",
              "      <td>185689</td>\n",
              "      <td>1814227</td>\n",
              "      <td>2199844</td>\n",
              "      <td>1311961223</td>\n",
              "      <td>1</td>\n",
              "      <td>0</td>\n",
              "      <td>77</td>\n",
              "      <td>0</td>\n",
              "      <td>313945</td>\n",
              "    </tr>\n",
              "    <tr>\n",
              "      <th>77</th>\n",
              "      <td>2017-05-17</td>\n",
              "      <td>142260</td>\n",
              "      <td>1755803</td>\n",
              "      <td>2225752</td>\n",
              "      <td>1248266254</td>\n",
              "      <td>1</td>\n",
              "      <td>0</td>\n",
              "      <td>78</td>\n",
              "      <td>0</td>\n",
              "      <td>185689</td>\n",
              "    </tr>\n",
              "    <tr>\n",
              "      <th>78</th>\n",
              "      <td>2017-05-18</td>\n",
              "      <td>135871</td>\n",
              "      <td>1749654</td>\n",
              "      <td>2302789</td>\n",
              "      <td>1284859759</td>\n",
              "      <td>1</td>\n",
              "      <td>0</td>\n",
              "      <td>79</td>\n",
              "      <td>0</td>\n",
              "      <td>142260</td>\n",
              "    </tr>\n",
              "    <tr>\n",
              "      <th>79</th>\n",
              "      <td>2017-05-19</td>\n",
              "      <td>108961</td>\n",
              "      <td>1746735</td>\n",
              "      <td>2279036</td>\n",
              "      <td>1246026846</td>\n",
              "      <td>1</td>\n",
              "      <td>0</td>\n",
              "      <td>80</td>\n",
              "      <td>0</td>\n",
              "      <td>135871</td>\n",
              "    </tr>\n",
              "  </tbody>\n",
              "</table>\n",
              "</div>"
            ],
            "text/plain": [
              "         Date  Views_show  Visitors  ...  day  weekday  prev_views\n",
              "75 2017-05-15      313945   1808684  ...   76        0      631962\n",
              "76 2017-05-16      185689   1814227  ...   77        0      313945\n",
              "77 2017-05-17      142260   1755803  ...   78        0      185689\n",
              "78 2017-05-18      135871   1749654  ...   79        0      142260\n",
              "79 2017-05-19      108961   1746735  ...   80        0      135871\n",
              "\n",
              "[5 rows x 10 columns]"
            ]
          },
          "metadata": {
            "tags": []
          },
          "execution_count": 131
        }
      ]
    },
    {
      "cell_type": "code",
      "metadata": {
        "id": "WUVGYGDR7nn8",
        "colab_type": "code",
        "colab": {}
      },
      "source": [
        "data['prev_views']=np.roll(data.Views_show,1)"
      ],
      "execution_count": null,
      "outputs": []
    },
    {
      "cell_type": "code",
      "metadata": {
        "id": "hGCOEskU_NEa",
        "colab_type": "code",
        "colab": {}
      },
      "source": [
        "data.prev_views.replace(108961,0,inplace=True)   #last row =0"
      ],
      "execution_count": null,
      "outputs": []
    },
    {
      "cell_type": "code",
      "metadata": {
        "id": "EFwCr54W_QWU",
        "colab_type": "code",
        "colab": {
          "base_uri": "https://localhost:8080/",
          "height": 198
        },
        "outputId": "87c2c900-7a58-4453-dc24-acc4ca052f59"
      },
      "source": [
        "data.head()"
      ],
      "execution_count": null,
      "outputs": [
        {
          "output_type": "execute_result",
          "data": {
            "text/html": [
              "<div>\n",
              "<style scoped>\n",
              "    .dataframe tbody tr th:only-of-type {\n",
              "        vertical-align: middle;\n",
              "    }\n",
              "\n",
              "    .dataframe tbody tr th {\n",
              "        vertical-align: top;\n",
              "    }\n",
              "\n",
              "    .dataframe thead th {\n",
              "        text-align: right;\n",
              "    }\n",
              "</style>\n",
              "<table border=\"1\" class=\"dataframe\">\n",
              "  <thead>\n",
              "    <tr style=\"text-align: right;\">\n",
              "      <th></th>\n",
              "      <th>Date</th>\n",
              "      <th>Views_show</th>\n",
              "      <th>Visitors</th>\n",
              "      <th>Views_platform</th>\n",
              "      <th>Ad_impression</th>\n",
              "      <th>Cricket_match_india</th>\n",
              "      <th>Character_A</th>\n",
              "      <th>day</th>\n",
              "      <th>weekday</th>\n",
              "      <th>prev_views</th>\n",
              "    </tr>\n",
              "  </thead>\n",
              "  <tbody>\n",
              "    <tr>\n",
              "      <th>0</th>\n",
              "      <td>2017-03-01</td>\n",
              "      <td>183738</td>\n",
              "      <td>1260228</td>\n",
              "      <td>1706478</td>\n",
              "      <td>1060860448</td>\n",
              "      <td>0</td>\n",
              "      <td>0</td>\n",
              "      <td>1</td>\n",
              "      <td>0</td>\n",
              "      <td>0</td>\n",
              "    </tr>\n",
              "    <tr>\n",
              "      <th>1</th>\n",
              "      <td>2017-03-02</td>\n",
              "      <td>193763</td>\n",
              "      <td>1270561</td>\n",
              "      <td>1690727</td>\n",
              "      <td>1031846645</td>\n",
              "      <td>0</td>\n",
              "      <td>0</td>\n",
              "      <td>2</td>\n",
              "      <td>0</td>\n",
              "      <td>183738</td>\n",
              "    </tr>\n",
              "    <tr>\n",
              "      <th>2</th>\n",
              "      <td>2017-03-03</td>\n",
              "      <td>210479</td>\n",
              "      <td>1248183</td>\n",
              "      <td>1726157</td>\n",
              "      <td>1010867575</td>\n",
              "      <td>0</td>\n",
              "      <td>0</td>\n",
              "      <td>3</td>\n",
              "      <td>0</td>\n",
              "      <td>193763</td>\n",
              "    </tr>\n",
              "    <tr>\n",
              "      <th>3</th>\n",
              "      <td>2017-03-04</td>\n",
              "      <td>240061</td>\n",
              "      <td>1492913</td>\n",
              "      <td>1855353</td>\n",
              "      <td>1079194579</td>\n",
              "      <td>1</td>\n",
              "      <td>0</td>\n",
              "      <td>4</td>\n",
              "      <td>1</td>\n",
              "      <td>210479</td>\n",
              "    </tr>\n",
              "    <tr>\n",
              "      <th>4</th>\n",
              "      <td>2017-03-05</td>\n",
              "      <td>446314</td>\n",
              "      <td>1594712</td>\n",
              "      <td>2041418</td>\n",
              "      <td>1357736987</td>\n",
              "      <td>0</td>\n",
              "      <td>0</td>\n",
              "      <td>5</td>\n",
              "      <td>1</td>\n",
              "      <td>240061</td>\n",
              "    </tr>\n",
              "  </tbody>\n",
              "</table>\n",
              "</div>"
            ],
            "text/plain": [
              "        Date  Views_show  Visitors  ...  day  weekday  prev_views\n",
              "0 2017-03-01      183738   1260228  ...    1        0           0\n",
              "1 2017-03-02      193763   1270561  ...    2        0      183738\n",
              "2 2017-03-03      210479   1248183  ...    3        0      193763\n",
              "3 2017-03-04      240061   1492913  ...    4        1      210479\n",
              "4 2017-03-05      446314   1594712  ...    5        1      240061\n",
              "\n",
              "[5 rows x 10 columns]"
            ]
          },
          "metadata": {
            "tags": []
          },
          "execution_count": 134
        }
      ]
    },
    {
      "cell_type": "code",
      "metadata": {
        "id": "XgpC15IU_wOH",
        "colab_type": "code",
        "colab": {
          "base_uri": "https://localhost:8080/",
          "height": 541
        },
        "outputId": "3dc6fd82-bec5-4433-d6a1-93c187944ac1"
      },
      "source": [
        "X=data[['Visitors','weekday','Character_A','prev_views']]\n",
        "Y=data[\"Views_show\"]\n",
        "X1=sm.add_constant(X)\n",
        "l1=sm.OLS(Y,X1).fit()\n",
        "l1.summary()"
      ],
      "execution_count": null,
      "outputs": [
        {
          "output_type": "execute_result",
          "data": {
            "text/html": [
              "<table class=\"simpletable\">\n",
              "<caption>OLS Regression Results</caption>\n",
              "<tr>\n",
              "  <th>Dep. Variable:</th>       <td>Views_show</td>    <th>  R-squared:         </th> <td>   0.740</td>\n",
              "</tr>\n",
              "<tr>\n",
              "  <th>Model:</th>                   <td>OLS</td>       <th>  Adj. R-squared:    </th> <td>   0.726</td>\n",
              "</tr>\n",
              "<tr>\n",
              "  <th>Method:</th>             <td>Least Squares</td>  <th>  F-statistic:       </th> <td>   53.46</td>\n",
              "</tr>\n",
              "<tr>\n",
              "  <th>Date:</th>             <td>Thu, 16 Jul 2020</td> <th>  Prob (F-statistic):</th> <td>3.16e-21</td>\n",
              "</tr>\n",
              "<tr>\n",
              "  <th>Time:</th>                 <td>19:01:05</td>     <th>  Log-Likelihood:    </th> <td> -1015.1</td>\n",
              "</tr>\n",
              "<tr>\n",
              "  <th>No. Observations:</th>      <td>    80</td>      <th>  AIC:               </th> <td>   2040.</td>\n",
              "</tr>\n",
              "<tr>\n",
              "  <th>Df Residuals:</th>          <td>    75</td>      <th>  BIC:               </th> <td>   2052.</td>\n",
              "</tr>\n",
              "<tr>\n",
              "  <th>Df Model:</th>              <td>     4</td>      <th>                     </th>     <td> </td>   \n",
              "</tr>\n",
              "<tr>\n",
              "  <th>Covariance Type:</th>      <td>nonrobust</td>    <th>                     </th>     <td> </td>   \n",
              "</tr>\n",
              "</table>\n",
              "<table class=\"simpletable\">\n",
              "<tr>\n",
              "       <td></td>          <th>coef</th>     <th>std err</th>      <th>t</th>      <th>P>|t|</th>  <th>[0.025</th>    <th>0.975]</th>  \n",
              "</tr>\n",
              "<tr>\n",
              "  <th>const</th>       <td> -2.98e+04</td> <td> 7.43e+04</td> <td>   -0.401</td> <td> 0.689</td> <td>-1.78e+05</td> <td> 1.18e+05</td>\n",
              "</tr>\n",
              "<tr>\n",
              "  <th>Visitors</th>    <td>    0.0659</td> <td>    0.047</td> <td>    1.394</td> <td> 0.167</td> <td>   -0.028</td> <td>    0.160</td>\n",
              "</tr>\n",
              "<tr>\n",
              "  <th>weekday</th>     <td> 2.273e+05</td> <td>  2.4e+04</td> <td>    9.467</td> <td> 0.000</td> <td> 1.79e+05</td> <td> 2.75e+05</td>\n",
              "</tr>\n",
              "<tr>\n",
              "  <th>Character_A</th> <td> 5.527e+04</td> <td> 2.01e+04</td> <td>    2.748</td> <td> 0.008</td> <td> 1.52e+04</td> <td> 9.53e+04</td>\n",
              "</tr>\n",
              "<tr>\n",
              "  <th>prev_views</th>  <td>    0.4317</td> <td>    0.065</td> <td>    6.679</td> <td> 0.000</td> <td>    0.303</td> <td>    0.560</td>\n",
              "</tr>\n",
              "</table>\n",
              "<table class=\"simpletable\">\n",
              "<tr>\n",
              "  <th>Omnibus:</th>       <td> 1.425</td> <th>  Durbin-Watson:     </th> <td>   2.626</td>\n",
              "</tr>\n",
              "<tr>\n",
              "  <th>Prob(Omnibus):</th> <td> 0.491</td> <th>  Jarque-Bera (JB):  </th> <td>   0.821</td>\n",
              "</tr>\n",
              "<tr>\n",
              "  <th>Skew:</th>          <td>-0.130</td> <th>  Prob(JB):          </th> <td>   0.663</td>\n",
              "</tr>\n",
              "<tr>\n",
              "  <th>Kurtosis:</th>      <td> 3.423</td> <th>  Cond. No.          </th> <td>1.44e+07</td>\n",
              "</tr>\n",
              "</table><br/><br/>Warnings:<br/>[1] Standard Errors assume that the covariance matrix of the errors is correctly specified.<br/>[2] The condition number is large, 1.44e+07. This might indicate that there are<br/>strong multicollinearity or other numerical problems."
            ],
            "text/plain": [
              "<class 'statsmodels.iolib.summary.Summary'>\n",
              "\"\"\"\n",
              "                            OLS Regression Results                            \n",
              "==============================================================================\n",
              "Dep. Variable:             Views_show   R-squared:                       0.740\n",
              "Model:                            OLS   Adj. R-squared:                  0.726\n",
              "Method:                 Least Squares   F-statistic:                     53.46\n",
              "Date:                Thu, 16 Jul 2020   Prob (F-statistic):           3.16e-21\n",
              "Time:                        19:01:05   Log-Likelihood:                -1015.1\n",
              "No. Observations:                  80   AIC:                             2040.\n",
              "Df Residuals:                      75   BIC:                             2052.\n",
              "Df Model:                           4                                         \n",
              "Covariance Type:            nonrobust                                         \n",
              "===============================================================================\n",
              "                  coef    std err          t      P>|t|      [0.025      0.975]\n",
              "-------------------------------------------------------------------------------\n",
              "const        -2.98e+04   7.43e+04     -0.401      0.689   -1.78e+05    1.18e+05\n",
              "Visitors        0.0659      0.047      1.394      0.167      -0.028       0.160\n",
              "weekday      2.273e+05    2.4e+04      9.467      0.000    1.79e+05    2.75e+05\n",
              "Character_A  5.527e+04   2.01e+04      2.748      0.008    1.52e+04    9.53e+04\n",
              "prev_views      0.4317      0.065      6.679      0.000       0.303       0.560\n",
              "==============================================================================\n",
              "Omnibus:                        1.425   Durbin-Watson:                   2.626\n",
              "Prob(Omnibus):                  0.491   Jarque-Bera (JB):                0.821\n",
              "Skew:                          -0.130   Prob(JB):                        0.663\n",
              "Kurtosis:                       3.423   Cond. No.                     1.44e+07\n",
              "==============================================================================\n",
              "\n",
              "Warnings:\n",
              "[1] Standard Errors assume that the covariance matrix of the errors is correctly specified.\n",
              "[2] The condition number is large, 1.44e+07. This might indicate that there are\n",
              "strong multicollinearity or other numerical problems.\n",
              "\"\"\""
            ]
          },
          "metadata": {
            "tags": []
          },
          "execution_count": 136
        }
      ]
    },
    {
      "cell_type": "code",
      "metadata": {
        "id": "910Wislt_2VL",
        "colab_type": "code",
        "colab": {
          "base_uri": "https://localhost:8080/",
          "height": 520
        },
        "outputId": "cc4af6cc-5782-4f6c-ae3f-40d24e8a3fb2"
      },
      "source": [
        "X=data[['Ad_impression','weekday','Character_A']]\n",
        "X1=sm.add_constant(X)\n",
        "l1=sm.OLS(Y,X1).fit()                                    #coefficient for ad impression is very less\n",
        "l1.summary()"
      ],
      "execution_count": null,
      "outputs": [
        {
          "output_type": "execute_result",
          "data": {
            "text/html": [
              "<table class=\"simpletable\">\n",
              "<caption>OLS Regression Results</caption>\n",
              "<tr>\n",
              "  <th>Dep. Variable:</th>       <td>Views_show</td>    <th>  R-squared:         </th> <td>   0.803</td>\n",
              "</tr>\n",
              "<tr>\n",
              "  <th>Model:</th>                   <td>OLS</td>       <th>  Adj. R-squared:    </th> <td>   0.795</td>\n",
              "</tr>\n",
              "<tr>\n",
              "  <th>Method:</th>             <td>Least Squares</td>  <th>  F-statistic:       </th> <td>   103.0</td>\n",
              "</tr>\n",
              "<tr>\n",
              "  <th>Date:</th>             <td>Thu, 16 Jul 2020</td> <th>  Prob (F-statistic):</th> <td>1.05e-26</td>\n",
              "</tr>\n",
              "<tr>\n",
              "  <th>Time:</th>                 <td>19:02:54</td>     <th>  Log-Likelihood:    </th> <td> -1004.2</td>\n",
              "</tr>\n",
              "<tr>\n",
              "  <th>No. Observations:</th>      <td>    80</td>      <th>  AIC:               </th> <td>   2016.</td>\n",
              "</tr>\n",
              "<tr>\n",
              "  <th>Df Residuals:</th>          <td>    76</td>      <th>  BIC:               </th> <td>   2026.</td>\n",
              "</tr>\n",
              "<tr>\n",
              "  <th>Df Model:</th>              <td>     3</td>      <th>                     </th>     <td> </td>   \n",
              "</tr>\n",
              "<tr>\n",
              "  <th>Covariance Type:</th>      <td>nonrobust</td>    <th>                     </th>     <td> </td>   \n",
              "</tr>\n",
              "</table>\n",
              "<table class=\"simpletable\">\n",
              "<tr>\n",
              "        <td></td>           <th>coef</th>     <th>std err</th>      <th>t</th>      <th>P>|t|</th>  <th>[0.025</th>    <th>0.975]</th>  \n",
              "</tr>\n",
              "<tr>\n",
              "  <th>const</th>         <td>-2.661e+05</td> <td> 4.74e+04</td> <td>   -5.609</td> <td> 0.000</td> <td>-3.61e+05</td> <td>-1.72e+05</td>\n",
              "</tr>\n",
              "<tr>\n",
              "  <th>Ad_impression</th> <td>    0.0004</td> <td> 3.69e-05</td> <td>    9.875</td> <td> 0.000</td> <td>    0.000</td> <td>    0.000</td>\n",
              "</tr>\n",
              "<tr>\n",
              "  <th>weekday</th>       <td>  1.51e+05</td> <td> 1.88e+04</td> <td>    8.019</td> <td> 0.000</td> <td> 1.14e+05</td> <td> 1.89e+05</td>\n",
              "</tr>\n",
              "<tr>\n",
              "  <th>Character_A</th>   <td> -2.99e+04</td> <td> 2.14e+04</td> <td>   -1.394</td> <td> 0.167</td> <td>-7.26e+04</td> <td> 1.28e+04</td>\n",
              "</tr>\n",
              "</table>\n",
              "<table class=\"simpletable\">\n",
              "<tr>\n",
              "  <th>Omnibus:</th>       <td> 4.723</td> <th>  Durbin-Watson:     </th> <td>   1.169</td>\n",
              "</tr>\n",
              "<tr>\n",
              "  <th>Prob(Omnibus):</th> <td> 0.094</td> <th>  Jarque-Bera (JB):  </th> <td>   3.939</td>\n",
              "</tr>\n",
              "<tr>\n",
              "  <th>Skew:</th>          <td> 0.453</td> <th>  Prob(JB):          </th> <td>   0.139</td>\n",
              "</tr>\n",
              "<tr>\n",
              "  <th>Kurtosis:</th>      <td> 3.601</td> <th>  Cond. No.          </th> <td>9.26e+09</td>\n",
              "</tr>\n",
              "</table><br/><br/>Warnings:<br/>[1] Standard Errors assume that the covariance matrix of the errors is correctly specified.<br/>[2] The condition number is large, 9.26e+09. This might indicate that there are<br/>strong multicollinearity or other numerical problems."
            ],
            "text/plain": [
              "<class 'statsmodels.iolib.summary.Summary'>\n",
              "\"\"\"\n",
              "                            OLS Regression Results                            \n",
              "==============================================================================\n",
              "Dep. Variable:             Views_show   R-squared:                       0.803\n",
              "Model:                            OLS   Adj. R-squared:                  0.795\n",
              "Method:                 Least Squares   F-statistic:                     103.0\n",
              "Date:                Thu, 16 Jul 2020   Prob (F-statistic):           1.05e-26\n",
              "Time:                        19:02:54   Log-Likelihood:                -1004.2\n",
              "No. Observations:                  80   AIC:                             2016.\n",
              "Df Residuals:                      76   BIC:                             2026.\n",
              "Df Model:                           3                                         \n",
              "Covariance Type:            nonrobust                                         \n",
              "=================================================================================\n",
              "                    coef    std err          t      P>|t|      [0.025      0.975]\n",
              "---------------------------------------------------------------------------------\n",
              "const         -2.661e+05   4.74e+04     -5.609      0.000   -3.61e+05   -1.72e+05\n",
              "Ad_impression     0.0004   3.69e-05      9.875      0.000       0.000       0.000\n",
              "weekday         1.51e+05   1.88e+04      8.019      0.000    1.14e+05    1.89e+05\n",
              "Character_A    -2.99e+04   2.14e+04     -1.394      0.167   -7.26e+04    1.28e+04\n",
              "==============================================================================\n",
              "Omnibus:                        4.723   Durbin-Watson:                   1.169\n",
              "Prob(Omnibus):                  0.094   Jarque-Bera (JB):                3.939\n",
              "Skew:                           0.453   Prob(JB):                        0.139\n",
              "Kurtosis:                       3.601   Cond. No.                     9.26e+09\n",
              "==============================================================================\n",
              "\n",
              "Warnings:\n",
              "[1] Standard Errors assume that the covariance matrix of the errors is correctly specified.\n",
              "[2] The condition number is large, 9.26e+09. This might indicate that there are\n",
              "strong multicollinearity or other numerical problems.\n",
              "\"\"\""
            ]
          },
          "metadata": {
            "tags": []
          },
          "execution_count": 138
        }
      ]
    },
    {
      "cell_type": "code",
      "metadata": {
        "id": "fGF9OEIsAfA5",
        "colab_type": "code",
        "colab": {}
      },
      "source": [
        "data['Ad_impressionpermillion']=data.Ad_impression/1000000"
      ],
      "execution_count": null,
      "outputs": []
    },
    {
      "cell_type": "code",
      "metadata": {
        "id": "YhpcjDcyAqE7",
        "colab_type": "code",
        "colab": {
          "base_uri": "https://localhost:8080/",
          "height": 520
        },
        "outputId": "62660ab3-478a-477e-b971-5e9320c18610"
      },
      "source": [
        "\n",
        "X=data[['Ad_impressionpermillion','weekday','Character_A']]\n",
        "X1=sm.add_constant(X)\n",
        "l1=sm.OLS(Y,X1).fit()                                    #coefficient for ad impression is very less\n",
        "l1.summary()"
      ],
      "execution_count": null,
      "outputs": [
        {
          "output_type": "execute_result",
          "data": {
            "text/html": [
              "<table class=\"simpletable\">\n",
              "<caption>OLS Regression Results</caption>\n",
              "<tr>\n",
              "  <th>Dep. Variable:</th>       <td>Views_show</td>    <th>  R-squared:         </th> <td>   0.803</td>\n",
              "</tr>\n",
              "<tr>\n",
              "  <th>Model:</th>                   <td>OLS</td>       <th>  Adj. R-squared:    </th> <td>   0.795</td>\n",
              "</tr>\n",
              "<tr>\n",
              "  <th>Method:</th>             <td>Least Squares</td>  <th>  F-statistic:       </th> <td>   103.0</td>\n",
              "</tr>\n",
              "<tr>\n",
              "  <th>Date:</th>             <td>Thu, 16 Jul 2020</td> <th>  Prob (F-statistic):</th> <td>1.05e-26</td>\n",
              "</tr>\n",
              "<tr>\n",
              "  <th>Time:</th>                 <td>19:03:56</td>     <th>  Log-Likelihood:    </th> <td> -1004.2</td>\n",
              "</tr>\n",
              "<tr>\n",
              "  <th>No. Observations:</th>      <td>    80</td>      <th>  AIC:               </th> <td>   2016.</td>\n",
              "</tr>\n",
              "<tr>\n",
              "  <th>Df Residuals:</th>          <td>    76</td>      <th>  BIC:               </th> <td>   2026.</td>\n",
              "</tr>\n",
              "<tr>\n",
              "  <th>Df Model:</th>              <td>     3</td>      <th>                     </th>     <td> </td>   \n",
              "</tr>\n",
              "<tr>\n",
              "  <th>Covariance Type:</th>      <td>nonrobust</td>    <th>                     </th>     <td> </td>   \n",
              "</tr>\n",
              "</table>\n",
              "<table class=\"simpletable\">\n",
              "<tr>\n",
              "             <td></td>                <th>coef</th>     <th>std err</th>      <th>t</th>      <th>P>|t|</th>  <th>[0.025</th>    <th>0.975]</th>  \n",
              "</tr>\n",
              "<tr>\n",
              "  <th>const</th>                   <td>-2.661e+05</td> <td> 4.74e+04</td> <td>   -5.609</td> <td> 0.000</td> <td>-3.61e+05</td> <td>-1.72e+05</td>\n",
              "</tr>\n",
              "<tr>\n",
              "  <th>Ad_impressionpermillion</th> <td>  364.4670</td> <td>   36.909</td> <td>    9.875</td> <td> 0.000</td> <td>  290.957</td> <td>  437.977</td>\n",
              "</tr>\n",
              "<tr>\n",
              "  <th>weekday</th>                 <td>  1.51e+05</td> <td> 1.88e+04</td> <td>    8.019</td> <td> 0.000</td> <td> 1.14e+05</td> <td> 1.89e+05</td>\n",
              "</tr>\n",
              "<tr>\n",
              "  <th>Character_A</th>             <td> -2.99e+04</td> <td> 2.14e+04</td> <td>   -1.394</td> <td> 0.167</td> <td>-7.26e+04</td> <td> 1.28e+04</td>\n",
              "</tr>\n",
              "</table>\n",
              "<table class=\"simpletable\">\n",
              "<tr>\n",
              "  <th>Omnibus:</th>       <td> 4.723</td> <th>  Durbin-Watson:     </th> <td>   1.169</td>\n",
              "</tr>\n",
              "<tr>\n",
              "  <th>Prob(Omnibus):</th> <td> 0.094</td> <th>  Jarque-Bera (JB):  </th> <td>   3.939</td>\n",
              "</tr>\n",
              "<tr>\n",
              "  <th>Skew:</th>          <td> 0.453</td> <th>  Prob(JB):          </th> <td>   0.139</td>\n",
              "</tr>\n",
              "<tr>\n",
              "  <th>Kurtosis:</th>      <td> 3.601</td> <th>  Cond. No.          </th> <td>9.26e+03</td>\n",
              "</tr>\n",
              "</table><br/><br/>Warnings:<br/>[1] Standard Errors assume that the covariance matrix of the errors is correctly specified.<br/>[2] The condition number is large, 9.26e+03. This might indicate that there are<br/>strong multicollinearity or other numerical problems."
            ],
            "text/plain": [
              "<class 'statsmodels.iolib.summary.Summary'>\n",
              "\"\"\"\n",
              "                            OLS Regression Results                            \n",
              "==============================================================================\n",
              "Dep. Variable:             Views_show   R-squared:                       0.803\n",
              "Model:                            OLS   Adj. R-squared:                  0.795\n",
              "Method:                 Least Squares   F-statistic:                     103.0\n",
              "Date:                Thu, 16 Jul 2020   Prob (F-statistic):           1.05e-26\n",
              "Time:                        19:03:56   Log-Likelihood:                -1004.2\n",
              "No. Observations:                  80   AIC:                             2016.\n",
              "Df Residuals:                      76   BIC:                             2026.\n",
              "Df Model:                           3                                         \n",
              "Covariance Type:            nonrobust                                         \n",
              "===========================================================================================\n",
              "                              coef    std err          t      P>|t|      [0.025      0.975]\n",
              "-------------------------------------------------------------------------------------------\n",
              "const                   -2.661e+05   4.74e+04     -5.609      0.000   -3.61e+05   -1.72e+05\n",
              "Ad_impressionpermillion   364.4670     36.909      9.875      0.000     290.957     437.977\n",
              "weekday                   1.51e+05   1.88e+04      8.019      0.000    1.14e+05    1.89e+05\n",
              "Character_A              -2.99e+04   2.14e+04     -1.394      0.167   -7.26e+04    1.28e+04\n",
              "==============================================================================\n",
              "Omnibus:                        4.723   Durbin-Watson:                   1.169\n",
              "Prob(Omnibus):                  0.094   Jarque-Bera (JB):                3.939\n",
              "Skew:                           0.453   Prob(JB):                        0.139\n",
              "Kurtosis:                       3.601   Cond. No.                     9.26e+03\n",
              "==============================================================================\n",
              "\n",
              "Warnings:\n",
              "[1] Standard Errors assume that the covariance matrix of the errors is correctly specified.\n",
              "[2] The condition number is large, 9.26e+03. This might indicate that there are\n",
              "strong multicollinearity or other numerical problems.\n",
              "\"\"\""
            ]
          },
          "metadata": {
            "tags": []
          },
          "execution_count": 141
        }
      ]
    },
    {
      "cell_type": "code",
      "metadata": {
        "id": "LhUTCcrfAv57",
        "colab_type": "code",
        "colab": {}
      },
      "source": [
        "import statsmodels.api as sm\n",
        "x1=sm.add_constant(X)\n",
        "a=sm.OLS(Y,x1).fit()\n",
        "y_pred=a.predict(X1)"
      ],
      "execution_count": null,
      "outputs": []
    },
    {
      "cell_type": "code",
      "metadata": {
        "id": "_NWOuHIiBN-j",
        "colab_type": "code",
        "colab": {
          "base_uri": "https://localhost:8080/",
          "height": 35
        },
        "outputId": "b3fe0677-3479-4947-8d59-38d756105a0d"
      },
      "source": [
        "print(r2_score(y_pred,Y))"
      ],
      "execution_count": null,
      "outputs": [
        {
          "output_type": "stream",
          "text": [
            "0.7541167825949279\n"
          ],
          "name": "stdout"
        }
      ]
    },
    {
      "cell_type": "code",
      "metadata": {
        "id": "qkuRc4WRBUbT",
        "colab_type": "code",
        "colab": {}
      },
      "source": [
        ""
      ],
      "execution_count": null,
      "outputs": []
    }
  ]
}